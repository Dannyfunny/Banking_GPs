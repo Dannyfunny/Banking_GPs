{
 "cells": [
  {
   "cell_type": "code",
   "execution_count": 2,
   "id": "91e4b135-71b8-48b4-8f34-b3ade7d0dbca",
   "metadata": {},
   "outputs": [
    {
     "name": "stdout",
     "output_type": "stream",
     "text": [
      "Loan Amortization Schedule Generator\n"
     ]
    },
    {
     "name": "stdin",
     "output_type": "stream",
     "text": [
      "Enter the loan principal amount:  1000\n",
      "Enter the annual interest rate (in percentage, e.g., 5 for 5%):  5\n",
      "Enter the loan term (in years):  1\n"
     ]
    },
    {
     "name": "stdout",
     "output_type": "stream",
     "text": [
      "\n",
      "Loan Amortization Schedule:\n",
      "    Payment Number  Payment Amount  Principal Payment  Interest Payment  \\\n",
      "0                1           85.61              81.44              4.17   \n",
      "1                2           85.61              81.78              3.83   \n",
      "2                3           85.61              82.12              3.49   \n",
      "3                4           85.61              82.46              3.14   \n",
      "4                5           85.61              82.81              2.80   \n",
      "5                6           85.61              83.15              2.46   \n",
      "6                7           85.61              83.50              2.11   \n",
      "7                8           85.61              83.85              1.76   \n",
      "8                9           85.61              84.20              1.41   \n",
      "9               10           85.61              84.55              1.06   \n",
      "10              11           85.61              84.90              0.71   \n",
      "11              12           85.61              85.25              0.36   \n",
      "\n",
      "    Remaining Balance  \n",
      "0              918.56  \n",
      "1              836.78  \n",
      "2              754.66  \n",
      "3              672.20  \n",
      "4              589.39  \n",
      "5              506.24  \n",
      "6              422.74  \n",
      "7              338.89  \n",
      "8              254.70  \n",
      "9              170.15  \n",
      "10              85.25  \n",
      "11               0.00  \n"
     ]
    }
   ],
   "source": [
    "import pandas as pd\n",
    "\n",
    "def generate_amortization_schedule(principal, rate_per_annum, years, payments_per_annum=12):\n",
    "    \"\"\"\n",
    "    Generate a loan amortization schedule.\n",
    "\n",
    "    :param principal: Loan principal amount\n",
    "    :param rate_per_annum: Annual interest rate (as a decimal, e.g., 0.05 for 5%)\n",
    "    :param years: Loan term in years\n",
    "    :param payments_per_annum: Number of payments per year (default is 12 for monthly payments)\n",
    "    :return: DataFrame containing the amortization schedule\n",
    "    \"\"\"\n",
    "\n",
    "    # Calculating Rate of Interest per Month and Total number of Payments made over the years\n",
    "\n",
    "    rate_per_month = rate_per_annum / payments_per_annum\n",
    "    total_payments = years * payments_per_annum\n",
    "\n",
    "    # Calculating the Fixed Monthly Payments\n",
    "\n",
    "    monthly_payment = (principal * rate_per_month) / (1 - (1 + rate_per_month) ** -total_payments)\n",
    "\n",
    "    # Creating a Loop through Variables\n",
    "    \n",
    "    remaining_balance = principal\n",
    "    schedule = []\n",
    "\n",
    "    # Loan Amortization Table Functionality \n",
    "    \n",
    "    for payment_number in range(1, total_payments + 1):\n",
    "        interest_amount = remaining_balance * rate_per_month\n",
    "        principal_amount = monthly_payment - interest_amount\n",
    "        remaining_balance -= principal_amount\n",
    "\n",
    "        # Upon Reaching Zero balance, the Loop stops to Avoid Displaying a negative balance \n",
    "   \n",
    "        remaining_balance = max(remaining_balance, 0)\n",
    "\n",
    "        schedule.append({\n",
    "            'Payment Number': payment_number,\n",
    "            'Payment Amount': round(monthly_payment, 2),\n",
    "            'Principal Payment': round(principal_amount, 2),\n",
    "            'Interest Payment': round(interest_amount, 2),\n",
    "            'Remaining Balance': round(remaining_balance, 2),\n",
    "        })\n",
    "\n",
    "    # Create a DataFrame for better visualization\n",
    "    return pd.DataFrame(schedule)\n",
    "\n",
    "\n",
    "if __name__ == \"__main__\":\n",
    "    print(\"Loan Amortization Schedule Generator\")\n",
    "    principal = float(input(\"Enter the loan principal amount: \"))\n",
    "    rate_per_annum = float(input(\"Enter the annual interest rate (in percentage, e.g., 5 for 5%): \")) / 100\n",
    "    years = int(input(\"Enter the loan term (in years): \"))\n",
    "    \n",
    "    # Loan Amortisation Schedule\n",
    "    amortization_schedule = generate_amortization_schedule(principal, rate_per_annum, years)\n",
    "    \n",
    "    # Display the Loan Amortization table\n",
    "    print(\"\\nLoan Amortization Schedule:\")\n",
    "    print(amortization_schedule)\n"
   ]
  },
  {
   "cell_type": "code",
   "execution_count": null,
   "id": "18554352-2bd4-4c74-bd70-c95a1cafeb9f",
   "metadata": {},
   "outputs": [],
   "source": []
  }
 ],
 "metadata": {
  "kernelspec": {
   "display_name": "Python 3 (ipykernel)",
   "language": "python",
   "name": "python3"
  },
  "language_info": {
   "codemirror_mode": {
    "name": "ipython",
    "version": 3
   },
   "file_extension": ".py",
   "mimetype": "text/x-python",
   "name": "python",
   "nbconvert_exporter": "python",
   "pygments_lexer": "ipython3",
   "version": "3.12.4"
  }
 },
 "nbformat": 4,
 "nbformat_minor": 5
}
